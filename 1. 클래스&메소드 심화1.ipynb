{
 "cells": [
  {
   "cell_type": "markdown",
   "id": "2c26b7d6",
   "metadata": {},
   "source": [
    "# 클래스 & 메소드 심화\n",
    "- 객체 지향 프로그래밍(OOP) : 코드의 재사용, 코드 중복 방지, 유지 보수, 대형 프로젝트에 적합\n",
    "- 규모가 큰 프로젝트(프로그램) : 함수 중심 -> 데이터 방대 -> 복잡\n",
    "- 클래스 중심 -> 데이터 중심 -> 객체로 관리 가능"
   ]
  },
  {
   "cell_type": "markdown",
   "id": "07397c94",
   "metadata": {},
   "source": [
    "### 일반적인 코딩"
   ]
  },
  {
   "cell_type": "code",
   "execution_count": 2,
   "id": "3afe0dcb",
   "metadata": {},
   "outputs": [],
   "source": [
    "# 예시 코드 : 차량 관리 코드\n",
    "# 차량1\n",
    "car_company_1 = 'Ferrari'\n",
    "car_detail_1 = [\n",
    "    {\"color\" : \"White\"},\n",
    "    {\"horsepower\" : 400},\n",
    "    {\"price\" : 8000}\n",
    "]\n",
    "\n",
    "# 차량2\n",
    "car_company_1 = 'Bmw'\n",
    "car_detail_1 = [\n",
    "    {\"color\" : \"Black\"},\n",
    "    {\"horsepower\" : 270},\n",
    "    {\"price\" : 5000}\n",
    "]\n",
    "\n",
    "# 차량2\n",
    "car_company_1 = 'Audi'\n",
    "car_detail_1 = [\n",
    "    {\"color\" : \"Silver\"},\n",
    "    {\"horsepower\" : 300},\n",
    "    {\"price\" : 6000}\n",
    "]"
   ]
  },
  {
   "cell_type": "markdown",
   "id": "68d91de9",
   "metadata": {},
   "source": [
    "**리스트 구조**\n",
    "- 관리하기 불편함\n",
    "- 인덱스 접근 시 실수 가능성 증가, 삭제 불편"
   ]
  },
  {
   "cell_type": "code",
   "execution_count": 3,
   "id": "a5d27916",
   "metadata": {},
   "outputs": [
    {
     "name": "stdout",
     "output_type": "stream",
     "text": [
      "['Ferrari', 'Audi']\n",
      "[{'color': 'White', 'horsepower': 400, 'price': 8000}, {'color': 'Silver', 'horsepower': 300, 'price': 6000}]\n"
     ]
    }
   ],
   "source": [
    "car_company_list = [\"Ferrari\", \"Bmw\", \"Audi\"]\n",
    "car_detail_list = [\n",
    "    {\"color\" : \"White\", \"horsepower\" : 400, \"price\" : 8000},\n",
    "    {\"color\" : \"Black\", \"horsepower\" : 270, \"price\" : 5000},\n",
    "    {\"color\" : \"Silver\", \"horsepower\" : 300, \"price\" : 6000}\n",
    "]\n",
    "\n",
    "# 인덱스를 이용한 삭제 > 인덱스 번호로 삭제하므로 실수할 가능성이 있음\n",
    "del car_company_list[1]\n",
    "del car_detail_list[1]\n",
    "\n",
    "print(car_company_list)\n",
    "print(car_detail_list)"
   ]
  },
  {
   "cell_type": "markdown",
   "id": "f5e87902",
   "metadata": {},
   "source": [
    "### 딕셔너리 구조\n",
    "- 코드 반복 지속, 중첩 문제(key), 키 조회 예외 처리 등"
   ]
  },
  {
   "cell_type": "code",
   "execution_count": 6,
   "id": "93aa3714",
   "metadata": {},
   "outputs": [
    {
     "name": "stdout",
     "output_type": "stream",
     "text": [
      "[{'car_company': 'Ferrari', 'car_detail': {'color': 'White', 'horsepower': 400, 'price': 8000}}, {'car_company': 'Audi', 'car_detail': {'color': 'Silver', 'horsepower': 300, 'price': 6000}}]\n"
     ]
    }
   ],
   "source": [
    "car_dicts = [\n",
    "    {\"car_company\" : \"Ferrari\", \"car_detail\" : {\"color\" : \"White\", \"horsepower\" : 400, \"price\" : 8000}},\n",
    "    {\"car_company\" : \"Bmw\", \"car_detail\" : {\"color\" : \"Black\", \"horsepower\" : 270, \"price\" : 5000}},\n",
    "    {\"car_company\" : \"Audi\", \"car_detail\" : {\"color\" : \"Silver\", \"horsepower\" : 300, \"price\" : 6000}}\n",
    "]\n",
    "\n",
    "# 딕셔너리 삭제\n",
    "del car_dicts[1]\n",
    "print(car_dicts)"
   ]
  },
  {
   "cell_type": "markdown",
   "id": "46e55186",
   "metadata": {},
   "source": [
    "## 클래스 구조\n",
    "- 구조 설계 후 재사용성 증가, 코드 반복 최소화, 메소드 활용"
   ]
  },
  {
   "cell_type": "code",
   "execution_count": 10,
   "id": "4535acf7",
   "metadata": {},
   "outputs": [],
   "source": [
    "class Car():\n",
    "    # 생성자\n",
    "    def __init__(self, company, details):\n",
    "        self._company = company\n",
    "        self._details = details\n",
    "        \n",
    "    # str 메직 메소드 : class가 가진 정보를 detail하게 출력할 수 있음\n",
    "    # repr와 차이는 str는 사용자 입장, repr는 개발자 입장\n",
    "    # str와 repr가 같이 있을 경우 str에 대한 값이 출력 됨\n",
    "    def __str__(self):\n",
    "        return 'str : {} - {}'.format(self._company, self._details)\n",
    "    \n",
    "    def __repr__(self):\n",
    "        return 'repr : {} - {}'.format(self._company, self._details)\n",
    "    \n",
    "    \n",
    "# __str__가 없는 경우\n",
    "class Car_nostr():\n",
    "    # 생성자\n",
    "    def __init__(self, company, details):\n",
    "        self._company = company\n",
    "        self._details = details"
   ]
  },
  {
   "cell_type": "code",
   "execution_count": 12,
   "id": "4a19a984",
   "metadata": {},
   "outputs": [],
   "source": [
    "car1 = Car('Ferrari', {'color' : 'White', 'horsepower': 400, 'price': 8000})\n",
    "car2 = Car_nostr('Ferrari', {'color' : 'White', 'horsepower': 400, 'price': 8000})"
   ]
  },
  {
   "cell_type": "code",
   "execution_count": 15,
   "id": "e9342098",
   "metadata": {},
   "outputs": [
    {
     "name": "stdout",
     "output_type": "stream",
     "text": [
      "__str__가 있는 경우 : str : Ferrari - {'color': 'White', 'horsepower': 400, 'price': 8000}\n",
      "__str__가 없는 경우 : <__main__.Car_nostr object at 0x000001E6C4344150>\n"
     ]
    }
   ],
   "source": [
    "print(f\"__str__가 있는 경우 : {car1}\")\n",
    "print(f\"__str__가 없는 경우 : {car2}\")"
   ]
  },
  {
   "cell_type": "code",
   "execution_count": 17,
   "id": "c37cfce6",
   "metadata": {},
   "outputs": [
    {
     "name": "stdout",
     "output_type": "stream",
     "text": [
      "{'_company': 'Ferrari', '_details': {'color': 'White', 'horsepower': 400, 'price': 8000}}\n",
      "{'_company': 'Bmw', '_details': {'color': 'Black', 'horsepower': 270, 'price': 5000}}\n",
      "{'_company': 'Audi', '_details': {'color': 'Silver', 'horsepower': 300, 'price': 6000}}\n"
     ]
    }
   ],
   "source": [
    "# __dict__메소드 : class안의 attribute 정보를 보여줌\n",
    "ar1 = Car('Ferrari', {'color' : 'White', 'horsepower': 400, 'price': 8000})\n",
    "car2 = Car('Bmw', {'color' : 'Black', 'horsepower': 270, 'price': 5000})\n",
    "car3 = Car('Audi', {'color' : 'Silver', 'horsepower': 300, 'price': 6000})\n",
    "\n",
    "print(car1.__dict__)\n",
    "print(car2.__dict__)\n",
    "print(car3.__dict__)"
   ]
  },
  {
   "cell_type": "code",
   "execution_count": 20,
   "id": "80c212dc",
   "metadata": {},
   "outputs": [
    {
     "name": "stdout",
     "output_type": "stream",
     "text": [
      "[repr : Ferrari - {'color': 'White', 'horsepower': 400, 'price': 8000}, repr : Bmw - {'color': 'Black', 'horsepower': 270, 'price': 5000}, repr : Audi - {'color': 'Silver', 'horsepower': 300, 'price': 6000}]\n"
     ]
    }
   ],
   "source": [
    "# 리스트 선언\n",
    "car_list = []\n",
    "\n",
    "car_list.append(car1)\n",
    "car_list.append(car2)\n",
    "car_list.append(car3)\n",
    "\n",
    "# 리스트 안에선 __str__이 아닌 __repr__로 보여짐\n",
    "print(car_list)"
   ]
  },
  {
   "cell_type": "code",
   "execution_count": 24,
   "id": "5446e007",
   "metadata": {},
   "outputs": [
    {
     "name": "stdout",
     "output_type": "stream",
     "text": [
      "str : Ferrari - {'color': 'White', 'horsepower': 400, 'price': 8000}\n",
      "str : Bmw - {'color': 'Black', 'horsepower': 270, 'price': 5000}\n",
      "str : Audi - {'color': 'Silver', 'horsepower': 300, 'price': 6000}\n",
      "\n",
      "repr : Ferrari - {'color': 'White', 'horsepower': 400, 'price': 8000}\n",
      "repr : Bmw - {'color': 'Black', 'horsepower': 270, 'price': 5000}\n",
      "repr : Audi - {'color': 'Silver', 'horsepower': 300, 'price': 6000}\n"
     ]
    }
   ],
   "source": [
    "# 반복문 print(__str__로 보여짐)\n",
    "for x in car_list:\n",
    "    print(x)\n",
    "    \n",
    "print()\n",
    "\n",
    "# repr로 보기\n",
    "for x in car_list:\n",
    "    print(repr(x))"
   ]
  },
  {
   "cell_type": "code",
   "execution_count": null,
   "id": "903460bf",
   "metadata": {},
   "outputs": [],
   "source": []
  },
  {
   "cell_type": "code",
   "execution_count": null,
   "id": "ec5ccf56",
   "metadata": {},
   "outputs": [],
   "source": []
  },
  {
   "cell_type": "code",
   "execution_count": null,
   "id": "a643c2b6",
   "metadata": {},
   "outputs": [],
   "source": []
  }
 ],
 "metadata": {
  "kernelspec": {
   "display_name": "Python 3 (ipykernel)",
   "language": "python",
   "name": "python3"
  },
  "language_info": {
   "codemirror_mode": {
    "name": "ipython",
    "version": 3
   },
   "file_extension": ".py",
   "mimetype": "text/x-python",
   "name": "python",
   "nbconvert_exporter": "python",
   "pygments_lexer": "ipython3",
   "version": "3.11.5"
  }
 },
 "nbformat": 4,
 "nbformat_minor": 5
}
