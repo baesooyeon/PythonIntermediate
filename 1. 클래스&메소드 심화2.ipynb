{
 "cells": [
  {
   "cell_type": "markdown",
   "id": "30cc9502",
   "metadata": {},
   "source": [
    "# 클래스&메소드 심화2"
   ]
  },
  {
   "cell_type": "code",
   "execution_count": 16,
   "id": "8a1a4309",
   "metadata": {},
   "outputs": [],
   "source": [
    "class Car():\n",
    "    \"\"\"\n",
    "    Car Class\n",
    "    Author : Kim\n",
    "    Date : 2019.11.08\n",
    "    \"\"\"\n",
    "\n",
    "    def __init__(self, company, details):\n",
    "        self._company = company\n",
    "        self._details = details\n",
    "\n",
    "    def __str__(self):\n",
    "        return 'str : {} - {}'.format(self._company, self._details)\n",
    "\n",
    "    def __repr__(self):\n",
    "        return 'repr : {} - {}'.format(self._company, self._details)\n",
    "\n",
    "    def detail_info(self):\n",
    "        print('Current Id : {}'.format(id(self)))\n",
    "        print('Car Detail Info : {} {}'.format(self._company, self._details.get('price')))"
   ]
  },
  {
   "cell_type": "markdown",
   "id": "ca471e08",
   "metadata": {},
   "source": [
    "**Self의 의미**\n",
    "- 각 클래스를 기반으로 생성된 인스턴스 고유의 값을 저장하기 위한 예약어"
   ]
  },
  {
   "cell_type": "code",
   "execution_count": 11,
   "id": "e2faf4dc",
   "metadata": {},
   "outputs": [],
   "source": [
    "car1 = Car(\"Ferrari\" , {\"color\" : \"White\", \"horsepower\" : 400, \"price\" : 8000})\n",
    "car2 = Car(\"Bmw\" , {\"color\" : \"Black\", \"horsepower\" : 270, \"price\" : 5000})\n",
    "car3 = Car(\"Audi\", {\"color\" : \"Silver\", \"horsepower\" : 300, \"price\" : 6000})"
   ]
  },
  {
   "cell_type": "code",
   "execution_count": 7,
   "id": "d7e8b6a1",
   "metadata": {},
   "outputs": [
    {
     "name": "stdout",
     "output_type": "stream",
     "text": [
      "2701215977808\n",
      "2701208080912\n",
      "2701215038352\n",
      "False\n",
      "False\n"
     ]
    }
   ],
   "source": [
    "# ID 확인 > ID를 통해 각 instance가 모두 다르다는 걸 확인할 수 있다.\n",
    "print(id(car1))\n",
    "print(id(car2))\n",
    "print(id(car3))\n",
    "\n",
    "print(car1._company == car2._company)\n",
    "print(car1 is car2)"
   ]
  },
  {
   "cell_type": "markdown",
   "id": "5e3ac811",
   "metadata": {},
   "source": [
    "**dir & __dict__확인**\n",
    "- dir : class가 가진 기본적은 attribute들을 보여줌"
   ]
  },
  {
   "cell_type": "code",
   "execution_count": 8,
   "id": "e500cc55",
   "metadata": {},
   "outputs": [
    {
     "name": "stdout",
     "output_type": "stream",
     "text": [
      "['__class__', '__del__', '__delattr__', '__dict__', '__dir__', '__doc__', '__eq__', '__format__', '__ge__', '__getattribute__', '__getstate__', '__gt__', '__hash__', '__init__', '__init_subclass__', '__le__', '__lt__', '__module__', '__ne__', '__new__', '__reduce__', '__reduce_ex__', '__repr__', '__setattr__', '__sizeof__', '__str__', '__subclasshook__', '__weakref__', '_company', '_details', 'car_count', 'detail_info']\n",
      "['__class__', '__del__', '__delattr__', '__dict__', '__dir__', '__doc__', '__eq__', '__format__', '__ge__', '__getattribute__', '__getstate__', '__gt__', '__hash__', '__init__', '__init_subclass__', '__le__', '__lt__', '__module__', '__ne__', '__new__', '__reduce__', '__reduce_ex__', '__repr__', '__setattr__', '__sizeof__', '__str__', '__subclasshook__', '__weakref__', '_company', '_details', 'car_count', 'detail_info']\n"
     ]
    }
   ],
   "source": [
    "print(dir(car1))\n",
    "print(dir(car2))"
   ]
  },
  {
   "cell_type": "markdown",
   "id": "b16cdf4e",
   "metadata": {},
   "source": [
    "- __dict__ : instance가 가지는 변수값들을 보여줌"
   ]
  },
  {
   "cell_type": "code",
   "execution_count": 12,
   "id": "520e93c6",
   "metadata": {},
   "outputs": [
    {
     "name": "stdout",
     "output_type": "stream",
     "text": [
      "{'_company': 'Ferrari', '_details': {'color': 'White', 'horsepower': 400, 'price': 8000}}\n",
      "{'_company': 'Bmw', '_details': {'color': 'Black', 'horsepower': 270, 'price': 5000}}\n"
     ]
    }
   ],
   "source": [
    "print(car1.__dict__)\n",
    "print(car2.__dict__)"
   ]
  },
  {
   "cell_type": "markdown",
   "id": "abe8a6e1",
   "metadata": {},
   "source": [
    "**Doctoring**\n",
    "- 클래스에 적혀있는 주석 보여줌"
   ]
  },
  {
   "cell_type": "code",
   "execution_count": 13,
   "id": "d116d1ca",
   "metadata": {},
   "outputs": [
    {
     "name": "stdout",
     "output_type": "stream",
     "text": [
      "\n",
      "    Car Class\n",
      "    Author : Kim\n",
      "    Date : 2019.11.08\n",
      "    \n"
     ]
    }
   ],
   "source": [
    "print(Car.__doc__)"
   ]
  },
  {
   "cell_type": "code",
   "execution_count": 20,
   "id": "0aece6d9",
   "metadata": {},
   "outputs": [
    {
     "name": "stdout",
     "output_type": "stream",
     "text": [
      "Current Id : 2701215891856\n",
      "Car Detail Info : Ferrari 8000\n",
      "Current Id : 2701215891856\n",
      "Car Detail Info : Ferrari 8000\n",
      "Current Id : 2701215977808\n",
      "Car Detail Info : Bmw 5000\n",
      "Current Id : 2701215977808\n",
      "Car Detail Info : Bmw 5000\n"
     ]
    },
    {
     "ename": "TypeError",
     "evalue": "Car.detail_info() missing 1 required positional argument: 'self'",
     "output_type": "error",
     "traceback": [
      "\u001b[1;31m---------------------------------------------------------------------------\u001b[0m",
      "\u001b[1;31mTypeError\u001b[0m                                 Traceback (most recent call last)",
      "Cell \u001b[1;32mIn[20], line 8\u001b[0m\n\u001b[0;32m      5\u001b[0m Car\u001b[38;5;241m.\u001b[39mdetail_info(car2)  \u001b[38;5;66;03m# car2란 인자를 받음(위와 동일한 결과)\u001b[39;00m\n\u001b[0;32m      7\u001b[0m \u001b[38;5;66;03m# 에러\u001b[39;00m\n\u001b[1;32m----> 8\u001b[0m Car\u001b[38;5;241m.\u001b[39mdetail_info()\n",
      "\u001b[1;31mTypeError\u001b[0m: Car.detail_info() missing 1 required positional argument: 'self'"
     ]
    }
   ],
   "source": [
    "# detail_info() 메소드 실행\n",
    "car1.detail_info()\n",
    "Car.detail_info(car1)  # car1이란 인자를 받음(위와 동일한 결과)\n",
    "car2.detail_info()\n",
    "Car.detail_info(car2)  # car2란 인자를 받음(위와 동일한 결과)\n",
    "\n",
    "# 에러\n",
    "Car.detail_info()  # 인자를 받아야 함"
   ]
  },
  {
   "cell_type": "code",
   "execution_count": 18,
   "id": "cbcd07ad",
   "metadata": {},
   "outputs": [
    {
     "name": "stdout",
     "output_type": "stream",
     "text": [
      "<class '__main__.Car'> <class '__main__.Car'>\n",
      "True\n"
     ]
    }
   ],
   "source": [
    "# 비교 > __class__는 class에 대해 불러오는 것!\n",
    "print(car1.__class__, car2.__class__)\n",
    "print(id(car1.__class__) == id(car2.__class__))"
   ]
  },
  {
   "cell_type": "markdown",
   "id": "62479d4f",
   "metadata": {},
   "source": [
    "**클래스 변수**\n",
    "- 작성할 때 영역이 중요함 > init 함수 이전에 작성\n",
    "- 클래스 변수는 모든 인스턴스가 공유한다."
   ]
  },
  {
   "cell_type": "code",
   "execution_count": 19,
   "id": "95f4091a",
   "metadata": {},
   "outputs": [],
   "source": [
    "class Car():\n",
    "    \"\"\"\n",
    "    Car Class\n",
    "    Author : Kim\n",
    "    Date : 2019.11.08\n",
    "    \"\"\"\n",
    "\n",
    "    # 클래스 변수\n",
    "    car_count = 0\n",
    "\n",
    "    def __init__(self, company, details):\n",
    "        self._company = company\n",
    "        self._details = details\n",
    "        # 모든 인스턴스 변수가 클래스 변수 공유\n",
    "        Car.car_count += 1\n",
    "\n",
    "    def __str__(self):\n",
    "        return 'str : {} - {}'.format(self._company, self._details)\n",
    "\n",
    "    def __repr__(self):\n",
    "        return 'repr : {} - {}'.format(self._company, self._details)\n",
    "\n",
    "    def detail_info(self):\n",
    "        print('Current Id : {}'.format(id(self)))\n",
    "        print('Car Detail Info : {} {}'.format(self._company, self._details.get('price')))\n"
   ]
  },
  {
   "cell_type": "code",
   "execution_count": 20,
   "id": "7eec99d0",
   "metadata": {},
   "outputs": [],
   "source": [
    "car1 = Car(\"Ferrari\" , {\"color\" : \"White\", \"horsepower\" : 400, \"price\" : 8000})\n",
    "car2 = Car(\"Bmw\" , {\"color\" : \"Black\", \"horsepower\" : 270, \"price\" : 5000})\n",
    "car3 = Car(\"Audi\", {\"color\" : \"Silver\", \"horsepower\" : 300, \"price\" : 6000})"
   ]
  },
  {
   "cell_type": "code",
   "execution_count": 21,
   "id": "4c977709",
   "metadata": {},
   "outputs": [
    {
     "name": "stdout",
     "output_type": "stream",
     "text": [
      "3\n",
      "3\n",
      "3\n"
     ]
    }
   ],
   "source": [
    "# 접근\n",
    "print(car1.car_count)\n",
    "print(car2.car_count)\n",
    "print(Car.car_count) # 정석"
   ]
  },
  {
   "cell_type": "markdown",
   "id": "f70dd264",
   "metadata": {},
   "source": [
    "**delete 메소드**"
   ]
  },
  {
   "cell_type": "code",
   "execution_count": 49,
   "id": "5618e5fb",
   "metadata": {},
   "outputs": [],
   "source": [
    "class Car():\n",
    "    \"\"\"\n",
    "    Car Class\n",
    "    Author : Kim\n",
    "    Date : 2019.11.08\n",
    "    \"\"\"\n",
    "\n",
    "    # 클래스 변수\n",
    "    car_count = 0\n",
    "\n",
    "    def __init__(self, company, details):\n",
    "        self._company = company\n",
    "        self._details = details\n",
    "        # 모든 인스턴스 변수가 클래스 변수 공유\n",
    "        Car.car_count += 1\n",
    "        self.car_count = 15\n",
    "\n",
    "    def __str__(self):\n",
    "        return 'str : {} - {}'.format(self._company, self._details)\n",
    "\n",
    "    def __repr__(self):\n",
    "        return 'repr : {} - {}'.format(self._company, self._details)\n",
    "\n",
    "    def detail_info(self):\n",
    "        print('Current Id : {}'.format(id(self)))\n",
    "        print('Car Detail Info : {} {}'.format(self._company, self._details.get('price')))\n",
    "\n",
    "    def __del__(self):\n",
    "        Car.car_count -= 1"
   ]
  },
  {
   "cell_type": "code",
   "execution_count": 50,
   "id": "01942843",
   "metadata": {},
   "outputs": [],
   "source": [
    "car1 = Car(\"Ferrari\" , {\"color\" : \"White\", \"horsepower\" : 400, \"price\" : 8000})\n",
    "car2 = Car(\"Bmw\" , {\"color\" : \"Black\", \"horsepower\" : 270, \"price\" : 5000})\n",
    "car3 = Car(\"Audi\", {\"color\" : \"Silver\", \"horsepower\" : 300, \"price\" : 6000})"
   ]
  },
  {
   "cell_type": "code",
   "execution_count": 51,
   "id": "d90d9762",
   "metadata": {},
   "outputs": [],
   "source": [
    "del car2"
   ]
  },
  {
   "cell_type": "code",
   "execution_count": 52,
   "id": "9905b01b",
   "metadata": {},
   "outputs": [
    {
     "name": "stdout",
     "output_type": "stream",
     "text": [
      "15\n"
     ]
    }
   ],
   "source": [
    "# car_count가 모든 인스턴스에 공유됐기 때문에 car3, car1의 car_count는 기존의 -1이 된다.\n",
    "print(car3.car_count)"
   ]
  },
  {
   "cell_type": "markdown",
   "id": "d0398425",
   "metadata": {},
   "source": [
    "**클래스 변수 검색**\n",
    "- 인스턴스 네임스페이스에서 없으면 상위에서 검색\n",
    "- 즉, 인스턴스 변수와 클래스 변수를 동일한 이름으로 생성 가능(인스턴스 검색 후 -> 상위(클래스 변수, 부모 클래스 변수))"
   ]
  },
  {
   "cell_type": "markdown",
   "id": "e03c26fc",
   "metadata": {},
   "source": [
    "- 인스턴스 변수 접근"
   ]
  },
  {
   "cell_type": "code",
   "execution_count": 53,
   "id": "34b096bd",
   "metadata": {},
   "outputs": [
    {
     "name": "stdout",
     "output_type": "stream",
     "text": [
      "15\n"
     ]
    }
   ],
   "source": [
    "print(car1.car_count)"
   ]
  },
  {
   "cell_type": "markdown",
   "id": "ee5306ff",
   "metadata": {},
   "source": [
    "- 클래스 변수 접근"
   ]
  },
  {
   "cell_type": "code",
   "execution_count": 54,
   "id": "bc546976",
   "metadata": {},
   "outputs": [
    {
     "name": "stdout",
     "output_type": "stream",
     "text": [
      "2\n"
     ]
    }
   ],
   "source": [
    "print(Car.car_count)"
   ]
  }
 ],
 "metadata": {
  "kernelspec": {
   "display_name": "Python 3 (ipykernel)",
   "language": "python",
   "name": "python3"
  },
  "language_info": {
   "codemirror_mode": {
    "name": "ipython",
    "version": 3
   },
   "file_extension": ".py",
   "mimetype": "text/x-python",
   "name": "python",
   "nbconvert_exporter": "python",
   "pygments_lexer": "ipython3",
   "version": "3.11.5"
  }
 },
 "nbformat": 4,
 "nbformat_minor": 5
}
