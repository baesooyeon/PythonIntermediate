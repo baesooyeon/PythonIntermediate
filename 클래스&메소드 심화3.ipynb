{
 "cells": [
  {
   "cell_type": "markdown",
   "id": "9e0bfa15",
   "metadata": {},
   "source": [
    "**클래스 기반 메소드 심화**\n",
    "- Class Method\n",
    "- Instance Method\n",
    "- Static Method"
   ]
  },
  {
   "cell_type": "code",
   "execution_count": 23,
   "id": "0b45c5ef",
   "metadata": {},
   "outputs": [],
   "source": [
    "# 클래스 선언\n",
    "class Car(object):\n",
    "    '''\n",
    "    Car Class\n",
    "    Author : Me\n",
    "    Date : 2019.11.08\n",
    "    Description : Class, Static, Instance Method\n",
    "    '''\n",
    "\n",
    "    # Class Variable\n",
    "    price_per_raise = 1.0\n",
    "\n",
    "    def __init__(self, company, details):\n",
    "        self._company = company\n",
    "        self._details = details\n",
    "        \n",
    "    def __str__(self):\n",
    "        return 'str : {} - {}'.format(self._company, self._details)\n",
    "\n",
    "    def __repr__(self):\n",
    "        return 'repr : {} - {}'.format(self._company, self._details)\n",
    "\n",
    "    # Instance Method : self 인자를 받는 메소드\n",
    "    # self : 객체의 고유한 속성 값 사용\n",
    "    def detail_info(self):\n",
    "        print('Current Id : {}'.format(id(self)))\n",
    "        print('Car Detail Info : {} {}'.format(self._company, self._details.get('price')))\n",
    "        \n",
    "    # Instance Method(가격 인상 전)\n",
    "    def get_price(self):\n",
    "        return 'Before Car Price -> company : {}, price : {}'.format(self._company, self._details.get('price'))\n",
    "    \n",
    "    # Instance Method(가격 인상 후)\n",
    "    def get_price_culc(self):\n",
    "        return 'Before Car Price -> company : {}, price : {}'.format(self._company, self._details.get('price') * Car.price_per_raise)"
   ]
  },
  {
   "cell_type": "code",
   "execution_count": 24,
   "id": "aca975b9",
   "metadata": {},
   "outputs": [],
   "source": [
    "# 자동차 인스턴스    \n",
    "car1 = Car('Bmw', {'color' : 'Black', 'horsepower': 270, 'price': 5000})\n",
    "car2 = Car('Audi', {'color' : 'Silver', 'horsepower': 300, 'price': 6000})"
   ]
  },
  {
   "cell_type": "code",
   "execution_count": 25,
   "id": "266502b9",
   "metadata": {},
   "outputs": [
    {
     "name": "stdout",
     "output_type": "stream",
     "text": [
      "str : Bmw - {'color': 'Black', 'horsepower': 270, 'price': 5000}\n",
      "str : Audi - {'color': 'Silver', 'horsepower': 300, 'price': 6000}\n"
     ]
    }
   ],
   "source": [
    "# 기본 정보\n",
    "print(car1)\n",
    "print(car2)"
   ]
  },
  {
   "cell_type": "code",
   "execution_count": 26,
   "id": "3889d843",
   "metadata": {},
   "outputs": [
    {
     "name": "stdout",
     "output_type": "stream",
     "text": [
      "Current Id : 2241270349648\n",
      "Car Detail Info : Bmw 5000\n",
      "\n",
      "Current Id : 2241270618512\n",
      "Car Detail Info : Audi 6000\n"
     ]
    }
   ],
   "source": [
    "# 전체 정보\n",
    "car1.detail_info()\n",
    "print()\n",
    "car2.detail_info()"
   ]
  },
  {
   "cell_type": "code",
   "execution_count": 27,
   "id": "1fb27c54",
   "metadata": {},
   "outputs": [
    {
     "name": "stdout",
     "output_type": "stream",
     "text": [
      "Before Car Price -> company : Bmw, price : 5000\n",
      "Before Car Price -> company : Audi, price : 6000\n"
     ]
    }
   ],
   "source": [
    "# 가격 정보(인상 전)\n",
    "print(car1.get_price())\n",
    "print(car2.get_price())"
   ]
  },
  {
   "cell_type": "code",
   "execution_count": 28,
   "id": "8eb86fa9",
   "metadata": {},
   "outputs": [],
   "source": [
    "# 가격 인상(클래스 메소드 미사용)\n",
    "Car.price_per_raise = 1.2"
   ]
  },
  {
   "cell_type": "code",
   "execution_count": 32,
   "id": "5a6e594f",
   "metadata": {},
   "outputs": [
    {
     "name": "stdout",
     "output_type": "stream",
     "text": [
      "Before Car Price -> company : Bmw, price : 6000.0\n",
      "Before Car Price -> company : Audi, price : 7200.0\n"
     ]
    }
   ],
   "source": [
    "# 가격 정보(인상 후)\n",
    "print(car1.get_price_culc())\n",
    "print(car2.get_price_culc())"
   ]
  }
 ],
 "metadata": {
  "kernelspec": {
   "display_name": "Python 3 (ipykernel)",
   "language": "python",
   "name": "python3"
  },
  "language_info": {
   "codemirror_mode": {
    "name": "ipython",
    "version": 3
   },
   "file_extension": ".py",
   "mimetype": "text/x-python",
   "name": "python",
   "nbconvert_exporter": "python",
   "pygments_lexer": "ipython3",
   "version": "3.11.5"
  }
 },
 "nbformat": 4,
 "nbformat_minor": 5
}
