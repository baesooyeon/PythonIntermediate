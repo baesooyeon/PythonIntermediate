{
 "cells": [
  {
   "cell_type": "markdown",
   "id": "3bbd5462",
   "metadata": {},
   "source": [
    "# 매직 메소드1"
   ]
  },
  {
   "cell_type": "markdown",
   "id": "37f6a58f",
   "metadata": {},
   "source": [
    "## Special 메소드 설명\n",
    "- 파이썬 핵심 구조 설명\n",
    "- 매직 메소드 실습\n",
    "- 클래스 매직 메소드 실습"
   ]
  },
  {
   "cell_type": "markdown",
   "id": "3b62b648",
   "metadata": {},
   "source": [
    "**파이썬의 핵심구조(Python Data Model)**\n",
    "- 시퀀스(Sequence)\n",
    "- 반복(Iteration)\n",
    "- 함수(Function)\n",
    "- 클래스(Class)"
   ]
  },
  {
   "cell_type": "markdown",
   "id": "8c2bd4bb",
   "metadata": {},
   "source": [
    "**Special Method(Magic Method)**\n",
    "- 클래스안에 정의할 수 있는 특별한(Built-in) 메소드\n",
    "    - ex : __init__ , __str__, __add__, __sub__, ...\n",
    "- 내부적으로 정의된(built-in) 메소드를 **내 상황, 목적에 맞게 커스터마이징 할 수 있음**"
   ]
  },
  {
   "cell_type": "code",
   "execution_count": 1,
   "id": "6809bbd4",
   "metadata": {},
   "outputs": [
    {
     "name": "stdout",
     "output_type": "stream",
     "text": [
      "<class 'int'>\n",
      "<class 'float'>\n"
     ]
    }
   ],
   "source": [
    "# 기본형 -> data type의 경우 모두 class\n",
    "print(int)\n",
    "print(float)"
   ]
  },
  {
   "cell_type": "code",
   "execution_count": null,
   "id": "7c0a1f91",
   "metadata": {},
   "outputs": [],
   "source": [
    "# 모든 속성 및 메소드 출력\n",
    "print(dir(int))\n",
    "print()"
   ]
  },
  {
   "cell_type": "code",
   "execution_count": 38,
   "id": "14a0171d",
   "metadata": {},
   "outputs": [
    {
     "name": "stdout",
     "output_type": "stream",
     "text": [
      "<class 'int'>\n",
      "\n",
      "메소드들\n",
      "['__abs__', '__add__', '__and__', '__bool__', '__ceil__', '__class__', '__delattr__', '__dir__', '__divmod__', '__doc__', '__eq__', '__float__', '__floor__', '__floordiv__', '__format__', '__ge__', '__getattribute__', '__getnewargs__', '__getstate__', '__gt__', '__hash__', '__index__', '__init__', '__init_subclass__', '__int__', '__invert__', '__le__', '__lshift__', '__lt__', '__mod__', '__mul__', '__ne__', '__neg__', '__new__', '__or__', '__pos__', '__pow__', '__radd__', '__rand__', '__rdivmod__', '__reduce__', '__reduce_ex__', '__repr__', '__rfloordiv__', '__rlshift__', '__rmod__', '__rmul__', '__ror__', '__round__', '__rpow__', '__rrshift__', '__rshift__', '__rsub__', '__rtruediv__', '__rxor__', '__setattr__', '__sizeof__', '__str__', '__sub__', '__subclasshook__', '__truediv__', '__trunc__', '__xor__', 'as_integer_ratio', 'bit_count', 'bit_length', 'conjugate', 'denominator', 'from_bytes', 'imag', 'numerator', 'real', 'to_bytes']\n"
     ]
    }
   ],
   "source": [
    "# int 타입 예시\n",
    "n = 10 # class\n",
    "print(type(n))\n",
    "print()\n",
    "print(\"메소드들\")\n",
    "print(dir(type(n)))"
   ]
  },
  {
   "cell_type": "code",
   "execution_count": 41,
   "id": "75c179a9",
   "metadata": {},
   "outputs": [
    {
     "name": "stdout",
     "output_type": "stream",
     "text": [
      "110\n",
      "110\n"
     ]
    }
   ],
   "source": [
    "# + = __add__ > 결국 +는 int라는 클래스가 가진 매직메소드로 실행되는 것!\n",
    "# +로 매핑되어 있음\n",
    "print(n+100)\n",
    "print(n.__add__(100))"
   ]
  },
  {
   "cell_type": "code",
   "execution_count": 42,
   "id": "1f704fe1",
   "metadata": {},
   "outputs": [
    {
     "name": "stdout",
     "output_type": "stream",
     "text": [
      "True True\n"
     ]
    }
   ],
   "source": [
    "print(n.__bool__(), bool(n))"
   ]
  },
  {
   "cell_type": "code",
   "execution_count": 44,
   "id": "a23606c5",
   "metadata": {},
   "outputs": [
    {
     "name": "stdout",
     "output_type": "stream",
     "text": [
      "110 1000\n"
     ]
    }
   ],
   "source": [
    "print(n+100, n.__mul__(100))"
   ]
  },
  {
   "cell_type": "code",
   "execution_count": 43,
   "id": "82a330bb",
   "metadata": {},
   "outputs": [
    {
     "name": "stdout",
     "output_type": "stream",
     "text": [
      "int([x]) -> integer\n",
      "int(x, base=10) -> integer\n",
      "\n",
      "Convert a number or string to an integer, or return 0 if no arguments\n",
      "are given.  If x is a number, return x.__int__().  For floating point\n",
      "numbers, this truncates towards zero.\n",
      "\n",
      "If x is not a number or if base is given, then x must be a string,\n",
      "bytes, or bytearray instance representing an integer literal in the\n",
      "given base.  The literal can be preceded by '+' or '-' and be surrounded\n",
      "by whitespace.  The base defaults to 10.  Valid bases are 0 and 2-36.\n",
      "Base 0 means to interpret the base from the string as an integer literal.\n",
      ">>> int('0b100', base=0)\n",
      "4\n"
     ]
    }
   ],
   "source": [
    "# int class에 대한 설명\n",
    "print(n.__doc__)"
   ]
  },
  {
   "cell_type": "markdown",
   "id": "93df841e",
   "metadata": {},
   "source": [
    "**클래스 예제**\n",
    "- 매직 메소드를 재정의하여 새롭게 사용한다."
   ]
  },
  {
   "cell_type": "code",
   "execution_count": 84,
   "id": "332f3df3",
   "metadata": {},
   "outputs": [],
   "source": [
    "class Fruit:\n",
    "    def __init__(self, name, price):\n",
    "        self._name = name\n",
    "        self._price = price\n",
    "        \n",
    "    # 매직메소드 새롭게 정의\n",
    "    def __str__(self):\n",
    "        return 'Fruit Class Info : {}, {}'.format(self._name, self._price)\n",
    "    \n",
    "    def __add__(self, x):\n",
    "        # 호출되는지 확인\n",
    "        print('Called >> __add__')\n",
    "        return self._price + x._price\n",
    "    \n",
    "    def __sub__(self, x):\n",
    "        print('Called >> __sub__')\n",
    "        return self._price - x._price\n",
    "    \n",
    "    def __le__(self, x):\n",
    "        print('Called >> __le__')\n",
    "        if self._price <= x._price:\n",
    "            return True\n",
    "        else:\n",
    "            return False\n",
    "        \n",
    "    def __ge__(self, x):\n",
    "        print('Called >> __ge__')\n",
    "        if self._price >= x._price:\n",
    "            return True\n",
    "        else:\n",
    "            return False"
   ]
  },
  {
   "cell_type": "code",
   "execution_count": 75,
   "id": "e84e3ee7",
   "metadata": {},
   "outputs": [],
   "source": [
    "# 인스턴스 생성\n",
    "s1 = Fruit('Orange', 7500)\n",
    "s2 = Fruit('Banana', 3000)"
   ]
  },
  {
   "cell_type": "code",
   "execution_count": 76,
   "id": "73ef6c11",
   "metadata": {},
   "outputs": [
    {
     "name": "stdout",
     "output_type": "stream",
     "text": [
      "10500\n"
     ]
    }
   ],
   "source": [
    "# __add__가 없을 경우\n",
    "print(s1._price + s2._price)"
   ]
  },
  {
   "cell_type": "code",
   "execution_count": 77,
   "id": "446b596e",
   "metadata": {},
   "outputs": [
    {
     "name": "stdout",
     "output_type": "stream",
     "text": [
      "Called >> __add__\n",
      "10500\n"
     ]
    }
   ],
   "source": [
    "# 매직메소드(__add__)의 구현\n",
    "print(s1+s2)"
   ]
  },
  {
   "cell_type": "code",
   "execution_count": 78,
   "id": "2755ff0b",
   "metadata": {},
   "outputs": [
    {
     "name": "stdout",
     "output_type": "stream",
     "text": [
      "Called >> __sub__\n",
      "4500\n"
     ]
    }
   ],
   "source": [
    "# __sub__\n",
    "print(s1-s2)"
   ]
  },
  {
   "cell_type": "code",
   "execution_count": 80,
   "id": "0a498147",
   "metadata": {},
   "outputs": [
    {
     "name": "stdout",
     "output_type": "stream",
     "text": [
      "Called >> __ge__\n",
      "True\n"
     ]
    }
   ],
   "source": [
    "# __ge__\n",
    "print(s1>=s2)"
   ]
  },
  {
   "cell_type": "code",
   "execution_count": 82,
   "id": "7a57e90c",
   "metadata": {},
   "outputs": [
    {
     "name": "stdout",
     "output_type": "stream",
     "text": [
      "Called >> __le__\n",
      "False\n"
     ]
    }
   ],
   "source": [
    "# __le__\n",
    "print(s1<=s2)"
   ]
  },
  {
   "cell_type": "code",
   "execution_count": 83,
   "id": "76b195b5",
   "metadata": {},
   "outputs": [
    {
     "name": "stdout",
     "output_type": "stream",
     "text": [
      "Fruit Class Info : Orange, 7500\n",
      "Fruit Class Info : Banana, 3000\n"
     ]
    }
   ],
   "source": [
    "# __str__\n",
    "print(s1)\n",
    "print(s2)"
   ]
  },
  {
   "cell_type": "markdown",
   "id": "6537c146",
   "metadata": {},
   "source": [
    "## 매직 메소드2"
   ]
  },
  {
   "cell_type": "markdown",
   "id": "00b896e6",
   "metadata": {},
   "source": [
    "**클래스 예제2**\n",
    "- 벡터 연산 클래스를 생성하자!\n",
    "    - 더하기 : (5,2) + (4,3) = (9,5)\n",
    "    - 곱하기 : (10, 3) * 5 = (50, 15)\n",
    "    - (0,0) 벡터인지 확인하기"
   ]
  },
  {
   "cell_type": "code",
   "execution_count": 48,
   "id": "26f3dc14",
   "metadata": {},
   "outputs": [],
   "source": [
    "class Vector(object):\n",
    "    def __init__(self, *arg):  # 인자를 packing해서 받는다.\n",
    "        '''\n",
    "        Create a vector, example : v = Vector(5, 10)\n",
    "        '''\n",
    "        # 오류를 막기 위해 예외처리는 반드시 필요하다.\n",
    "        if len(arg) ==0:\n",
    "            self._x, self._y = 0, 0\n",
    "        else:\n",
    "            self._x, self._y = arg\n",
    "            \n",
    "    def __repr__(self):\n",
    "        '''Return the vector informatinos.'''\n",
    "        return 'Vector(%r, %r)' %(self._x, self._y)\n",
    "    \n",
    "    def __add__(self, other):\n",
    "        '''Return the vector addition of self and other'''\n",
    "        return Vector(self._x+other._x, self._y+other._y)\n",
    "    \n",
    "    def __mul__(self, y):\n",
    "        return Vector(self._x * y, self._y*y)\n",
    "    \n",
    "    def __bool__(self):\n",
    "        return bool(max(self._x, self._y))  #x, y 둘 다 0일 경우 > bool(0) > False가 된다."
   ]
  },
  {
   "cell_type": "code",
   "execution_count": 49,
   "id": "81041d71",
   "metadata": {},
   "outputs": [
    {
     "name": "stdout",
     "output_type": "stream",
     "text": [
      "\n",
      "        Create a vector, example : v = Vector(5, 10)\n",
      "        \n"
     ]
    }
   ],
   "source": [
    "# doc을 class 바로 맡이 아닌 __init__메소드에 작성했으므로 __init__에서 확인\n",
    "print(Vector.__init__.__doc__)"
   ]
  },
  {
   "cell_type": "code",
   "execution_count": 50,
   "id": "681936d7",
   "metadata": {},
   "outputs": [
    {
     "name": "stdout",
     "output_type": "stream",
     "text": [
      "Vector(5, 7) Vector(23, 35) Vector(0, 0)\n"
     ]
    }
   ],
   "source": [
    "# Vector 인스턴스 생성\n",
    "v1 = Vector(5, 7)\n",
    "v2 = Vector(23, 35)\n",
    "v3 = Vector()  # (0, 0)으로 할당된\n",
    "print(v1, v2, v3)"
   ]
  },
  {
   "cell_type": "code",
   "execution_count": 51,
   "id": "596fc703",
   "metadata": {},
   "outputs": [
    {
     "ename": "ValueError",
     "evalue": "too many values to unpack (expected 2)",
     "output_type": "error",
     "traceback": [
      "\u001b[1;31m---------------------------------------------------------------------------\u001b[0m",
      "\u001b[1;31mValueError\u001b[0m                                Traceback (most recent call last)",
      "Cell \u001b[1;32mIn[51], line 1\u001b[0m\n\u001b[1;32m----> 1\u001b[0m v4 \u001b[38;5;241m=\u001b[39m Vector(\u001b[38;5;241m1\u001b[39m,\u001b[38;5;241m2\u001b[39m,\u001b[38;5;241m3\u001b[39m)\n",
      "Cell \u001b[1;32mIn[48], line 10\u001b[0m, in \u001b[0;36mVector.__init__\u001b[1;34m(self, *arg)\u001b[0m\n\u001b[0;32m      8\u001b[0m     \u001b[38;5;28mself\u001b[39m\u001b[38;5;241m.\u001b[39m_x, \u001b[38;5;28mself\u001b[39m\u001b[38;5;241m.\u001b[39m_y \u001b[38;5;241m=\u001b[39m \u001b[38;5;241m0\u001b[39m, \u001b[38;5;241m0\u001b[39m\n\u001b[0;32m      9\u001b[0m \u001b[38;5;28;01melse\u001b[39;00m:\n\u001b[1;32m---> 10\u001b[0m     \u001b[38;5;28mself\u001b[39m\u001b[38;5;241m.\u001b[39m_x, \u001b[38;5;28mself\u001b[39m\u001b[38;5;241m.\u001b[39m_y \u001b[38;5;241m=\u001b[39m arg\n",
      "\u001b[1;31mValueError\u001b[0m: too many values to unpack (expected 2)"
     ]
    }
   ],
   "source": [
    "v4 = Vector(1,2,3)  # x,y 지정한 인자보다 많으므로 오류가 발생한다."
   ]
  },
  {
   "cell_type": "code",
   "execution_count": 52,
   "id": "735c1ad3",
   "metadata": {},
   "outputs": [
    {
     "name": "stdout",
     "output_type": "stream",
     "text": [
      "\n",
      "        Create a vector, example : v = Vector(5, 10)\n",
      "        \n",
      "Return the vector informatinos.\n",
      "Return the vector addition of self and other\n"
     ]
    }
   ],
   "source": [
    "# 매직 메소드 doc 출력\n",
    "print(Vector.__init__.__doc__)\n",
    "print(Vector.__repr__.__doc__)\n",
    "print(Vector.__add__.__doc__)"
   ]
  },
  {
   "cell_type": "code",
   "execution_count": 59,
   "id": "bcd349dd",
   "metadata": {},
   "outputs": [
    {
     "name": "stdout",
     "output_type": "stream",
     "text": [
      "add : Vector(28, 42)\n",
      "mul : Vector(15, 21)\n",
      "bool(True) : True\n",
      "bool(False) : False\n"
     ]
    }
   ],
   "source": [
    "# 매직 메소드 출력\n",
    "print(f\"add : {v1+v2}\")\n",
    "print(f\"mul : {v1*3}\")\n",
    "print(f\"bool(True) : {bool(v1)}\")\n",
    "print(f\"bool(False) : {bool(v3)}\")"
   ]
  }
 ],
 "metadata": {
  "kernelspec": {
   "display_name": "Python 3 (ipykernel)",
   "language": "python",
   "name": "python3"
  },
  "language_info": {
   "codemirror_mode": {
    "name": "ipython",
    "version": 3
   },
   "file_extension": ".py",
   "mimetype": "text/x-python",
   "name": "python",
   "nbconvert_exporter": "python",
   "pygments_lexer": "ipython3",
   "version": "3.11.5"
  }
 },
 "nbformat": 4,
 "nbformat_minor": 5
}
