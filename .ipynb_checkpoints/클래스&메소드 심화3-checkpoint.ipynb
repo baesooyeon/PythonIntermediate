{
 "cells": [
  {
   "cell_type": "markdown",
   "id": "9e0bfa15",
   "metadata": {},
   "source": [
    "**클래스 기반 메소드 심화**\n",
    "- Class Method\n",
    "- Instance Method\n",
    "- Static Method"
   ]
  },
  {
   "cell_type": "code",
   "execution_count": 23,
   "id": "0b45c5ef",
   "metadata": {},
   "outputs": [],
   "source": [
    "# 클래스 선언\n",
    "class Car(object):\n",
    "    '''\n",
    "    Car Class\n",
    "    Author : Me\n",
    "    Date : 2019.11.08\n",
    "    Description : Class, Static, Instance Method\n",
    "    '''\n",
    "\n",
    "    # Class Variable\n",
    "    price_per_raise = 1.0\n",
    "\n",
    "    def __init__(self, company, details):\n",
    "        self._company = company\n",
    "        self._details = details\n",
    "        \n",
    "    def __str__(self):\n",
    "        return 'str : {} - {}'.format(self._company, self._details)\n",
    "\n",
    "    def __repr__(self):\n",
    "        return 'repr : {} - {}'.format(self._company, self._details)\n",
    "\n",
    "    # Instance Method : self 인자를 받는 메소드\n",
    "    # self : 객체의 고유한 속성 값 사용\n",
    "    def detail_info(self):\n",
    "        print('Current Id : {}'.format(id(self)))\n",
    "        print('Car Detail Info : {} {}'.format(self._company, self._details.get('price')))\n",
    "        \n",
    "    # Instance Method(가격 인상 전)\n",
    "    def get_price(self):\n",
    "        return 'Before Car Price -> company : {}, price : {}'.format(self._company, self._details.get('price'))\n",
    "    \n",
    "    # Instance Method(가격 인상 후)\n",
    "    def get_price_culc(self):\n",
    "        return 'Before Car Price -> company : {}, price : {}'.format(self._company, self._details.get('price') * Car.price_per_raise)"
   ]
  },
  {
   "cell_type": "code",
   "execution_count": 44,
   "id": "aca975b9",
   "metadata": {},
   "outputs": [],
   "source": [
    "# 자동차 인스턴스    \n",
    "car1 = Car('Bmw', {'color' : 'Black', 'horsepower': 270, 'price': 5000})\n",
    "car2 = Car('Audi', {'color' : 'Silver', 'horsepower': 300, 'price': 6000})"
   ]
  },
  {
   "cell_type": "code",
   "execution_count": 25,
   "id": "266502b9",
   "metadata": {},
   "outputs": [
    {
     "name": "stdout",
     "output_type": "stream",
     "text": [
      "str : Bmw - {'color': 'Black', 'horsepower': 270, 'price': 5000}\n",
      "str : Audi - {'color': 'Silver', 'horsepower': 300, 'price': 6000}\n"
     ]
    }
   ],
   "source": [
    "# 기본 정보\n",
    "print(car1)\n",
    "print(car2)"
   ]
  },
  {
   "cell_type": "code",
   "execution_count": 26,
   "id": "3889d843",
   "metadata": {},
   "outputs": [
    {
     "name": "stdout",
     "output_type": "stream",
     "text": [
      "Current Id : 2241270349648\n",
      "Car Detail Info : Bmw 5000\n",
      "\n",
      "Current Id : 2241270618512\n",
      "Car Detail Info : Audi 6000\n"
     ]
    }
   ],
   "source": [
    "# 전체 정보\n",
    "car1.detail_info()\n",
    "print()\n",
    "car2.detail_info()"
   ]
  },
  {
   "cell_type": "code",
   "execution_count": 27,
   "id": "1fb27c54",
   "metadata": {},
   "outputs": [
    {
     "name": "stdout",
     "output_type": "stream",
     "text": [
      "Before Car Price -> company : Bmw, price : 5000\n",
      "Before Car Price -> company : Audi, price : 6000\n"
     ]
    }
   ],
   "source": [
    "# 가격 정보(인상 전)\n",
    "print(car1.get_price())\n",
    "print(car2.get_price())"
   ]
  },
  {
   "cell_type": "code",
   "execution_count": 28,
   "id": "8eb86fa9",
   "metadata": {},
   "outputs": [],
   "source": [
    "# 가격 인상(클래스 메소드 미사용)\n",
    "Car.price_per_raise = 1.2"
   ]
  },
  {
   "cell_type": "code",
   "execution_count": 32,
   "id": "5a6e594f",
   "metadata": {},
   "outputs": [
    {
     "name": "stdout",
     "output_type": "stream",
     "text": [
      "Before Car Price -> company : Bmw, price : 6000.0\n",
      "Before Car Price -> company : Audi, price : 7200.0\n"
     ]
    }
   ],
   "source": [
    "# 가격 정보(인상 후)\n",
    "print(car1.get_price_culc())\n",
    "print(car2.get_price_culc())"
   ]
  },
  {
   "cell_type": "markdown",
   "id": "b3fc14ea",
   "metadata": {},
   "source": [
    "**Class Method**\n",
    "- instance method의 경우 self 인자를 받지만, class method의 경우 cls 인자를 받는다.\n",
    "- cls는 Class를 의미함(아래의 경우 Car Class를 의미함)"
   ]
  },
  {
   "cell_type": "code",
   "execution_count": 49,
   "id": "5b420cf0",
   "metadata": {},
   "outputs": [],
   "source": [
    "# 클래스 선언\n",
    "class Car(object):\n",
    "    '''\n",
    "    Car Class\n",
    "    Author : Me\n",
    "    Date : 2019.11.08\n",
    "    Description : Class, Static, Instance Method\n",
    "    '''\n",
    "\n",
    "    # Class Variable\n",
    "    price_per_raise = 1.0\n",
    "\n",
    "    def __init__(self, company, details):\n",
    "        self._company = company\n",
    "        self._details = details\n",
    "        \n",
    "    def __str__(self):\n",
    "        return 'str : {} - {}'.format(self._company, self._details)\n",
    "\n",
    "    def __repr__(self):\n",
    "        return 'repr : {} - {}'.format(self._company, self._details)\n",
    "\n",
    "    # Instance Method : self 인자를 받는 메소드\n",
    "    # self : 객체의 고유한 속성 값 사용\n",
    "    def detail_info(self):\n",
    "        print('Current Id : {}'.format(id(self)))\n",
    "        print('Car Detail Info : {} {}'.format(self._company, self._details.get('price')))\n",
    "        \n",
    "    # Instance Method(가격 인상 전)\n",
    "    def get_price(self):\n",
    "        return 'Before Car Price -> company : {}, price : {}'.format(self._company, self._details.get('price'))\n",
    "    \n",
    "    # Instance Method(가격 인상 후)\n",
    "    def get_price_culc(self):\n",
    "        return 'Before Car Price -> company : {}, price : {}'.format(self._company, self._details.get('price') * Car.price_per_raise)\n",
    "    \n",
    "    # Class Method\n",
    "    @classmethod\n",
    "    def raise_price(cls, per):\n",
    "        if per<= 1:\n",
    "            print(\"Please Enter 1 or More\")\n",
    "            return\n",
    "        cls.price_per_raise = per\n",
    "        return \"Succeed! price increased!\"\n",
    "    \n",
    "    # Static Method\n",
    "    @staticmethod\n",
    "    def is_bmw(inst):\n",
    "        if inst._company == \"Bmw\":\n",
    "            return 'OK! This car is {}'.format(inst._company)\n",
    "        return 'Sorry. This car is not Bmw'"
   ]
  },
  {
   "cell_type": "code",
   "execution_count": 50,
   "id": "5f3ed4e5",
   "metadata": {},
   "outputs": [],
   "source": [
    "# 자동차 인스턴스    \n",
    "car1 = Car('Bmw', {'color' : 'Black', 'horsepower': 270, 'price': 5000})\n",
    "car2 = Car('Audi', {'color' : 'Silver', 'horsepower': 300, 'price': 6000})"
   ]
  },
  {
   "cell_type": "code",
   "execution_count": 4,
   "id": "7a3d6938",
   "metadata": {},
   "outputs": [
    {
     "name": "stdout",
     "output_type": "stream",
     "text": [
      "Please Enter 1 or More\n"
     ]
    }
   ],
   "source": [
    "# 가격 인상(클래스 메소드 사용) > 클래스 변수 직접적으로 변경 X\n",
    "Car.raise_price(1)"
   ]
  },
  {
   "cell_type": "code",
   "execution_count": 8,
   "id": "8aeaf9f6",
   "metadata": {},
   "outputs": [
    {
     "data": {
      "text/plain": [
       "'Succeed! price increased!'"
      ]
     },
     "execution_count": 8,
     "metadata": {},
     "output_type": "execute_result"
    }
   ],
   "source": [
    "Car.raise_price(1.6)"
   ]
  },
  {
   "cell_type": "code",
   "execution_count": 9,
   "id": "b9d42813",
   "metadata": {},
   "outputs": [
    {
     "name": "stdout",
     "output_type": "stream",
     "text": [
      "Before Car Price -> company : Bmw, price : 8000.0\n",
      "Before Car Price -> company : Audi, price : 9600.0\n"
     ]
    }
   ],
   "source": [
    "# 가격 정보(인상 후  : 클래스 메소드)\n",
    "print(car1.get_price_culc())\n",
    "print(car2.get_price_culc())"
   ]
  },
  {
   "cell_type": "markdown",
   "id": "2516ed52",
   "metadata": {},
   "source": [
    "**Static Method**\n",
    "- class method나 instance method와 달리 self, cls와 같은 인자를 받지 않음(변수 없음)\n",
    "- class, instance 둘 다 사용 가능한 유연한 함수\n",
    "- class나 instance method에 비해 크게 활용되지는 않음"
   ]
  },
  {
   "cell_type": "code",
   "execution_count": 51,
   "id": "de2ae484",
   "metadata": {},
   "outputs": [
    {
     "name": "stdout",
     "output_type": "stream",
     "text": [
      "OK! This car is Bmw\n",
      "Sorry. This car is not Bmw\n"
     ]
    }
   ],
   "source": [
    "# Class로 호출\n",
    "print(Car.is_bmw(car1))\n",
    "print(Car.is_bmw(car2))"
   ]
  },
  {
   "cell_type": "code",
   "execution_count": 52,
   "id": "c91fcd8f",
   "metadata": {},
   "outputs": [
    {
     "name": "stdout",
     "output_type": "stream",
     "text": [
      "OK! This car is Bmw\n",
      "Sorry. This car is not Bmw\n"
     ]
    }
   ],
   "source": [
    "# Instace로 호출\n",
    "print(car1.is_bmw(car1))\n",
    "print(car2.is_bmw(car2))"
   ]
  }
 ],
 "metadata": {
  "kernelspec": {
   "display_name": "Python 3 (ipykernel)",
   "language": "python",
   "name": "python3"
  },
  "language_info": {
   "codemirror_mode": {
    "name": "ipython",
    "version": 3
   },
   "file_extension": ".py",
   "mimetype": "text/x-python",
   "name": "python",
   "nbconvert_exporter": "python",
   "pygments_lexer": "ipython3",
   "version": "3.11.5"
  }
 },
 "nbformat": 4,
 "nbformat_minor": 5
}
