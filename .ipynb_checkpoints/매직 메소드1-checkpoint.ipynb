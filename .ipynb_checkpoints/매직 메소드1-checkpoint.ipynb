{
 "cells": [
  {
   "cell_type": "markdown",
   "id": "37f6a58f",
   "metadata": {},
   "source": [
    "# Special 메소드 설명\n",
    "- 파이썬 핵심 구조 설명\n",
    "- 매직 메소드 실습\n",
    "- 클래스 매직 메소드 실습"
   ]
  },
  {
   "cell_type": "markdown",
   "id": "3b62b648",
   "metadata": {},
   "source": [
    "**파이썬의 핵심구조(Python Data Model)**\n",
    "- 시퀀스(Sequence)\n",
    "- 반복(Iteration)\n",
    "- 함수(Function)\n",
    "- 클래스(Class)"
   ]
  },
  {
   "cell_type": "markdown",
   "id": "8c2bd4bb",
   "metadata": {},
   "source": [
    "**Special Method(Magic Method)**\n",
    "- 클래스안에 정의할 수 있는 특별한(Built-in) 메소드\n",
    "    - ex : __init__ , __str__, __add__, __sub__, ...\n",
    "- 내부적으로 정의된(built-in) 메소드를 내 상황에 맞게 커스터마이징 할 수 있음"
   ]
  },
  {
   "cell_type": "code",
   "execution_count": 1,
   "id": "6809bbd4",
   "metadata": {},
   "outputs": [
    {
     "name": "stdout",
     "output_type": "stream",
     "text": [
      "<class 'int'>\n",
      "<class 'float'>\n"
     ]
    }
   ],
   "source": [
    "# 기본형 -> data type의 경우 모두 class\n",
    "print(int)\n",
    "print(float)"
   ]
  },
  {
   "cell_type": "code",
   "execution_count": null,
   "id": "7c0a1f91",
   "metadata": {},
   "outputs": [],
   "source": [
    "# 모든 속성 및 메소드 출력\n",
    "print(dir(int))\n",
    "print()"
   ]
  },
  {
   "cell_type": "code",
   "execution_count": 38,
   "id": "14a0171d",
   "metadata": {},
   "outputs": [
    {
     "name": "stdout",
     "output_type": "stream",
     "text": [
      "<class 'int'>\n",
      "\n",
      "메소드들\n",
      "['__abs__', '__add__', '__and__', '__bool__', '__ceil__', '__class__', '__delattr__', '__dir__', '__divmod__', '__doc__', '__eq__', '__float__', '__floor__', '__floordiv__', '__format__', '__ge__', '__getattribute__', '__getnewargs__', '__getstate__', '__gt__', '__hash__', '__index__', '__init__', '__init_subclass__', '__int__', '__invert__', '__le__', '__lshift__', '__lt__', '__mod__', '__mul__', '__ne__', '__neg__', '__new__', '__or__', '__pos__', '__pow__', '__radd__', '__rand__', '__rdivmod__', '__reduce__', '__reduce_ex__', '__repr__', '__rfloordiv__', '__rlshift__', '__rmod__', '__rmul__', '__ror__', '__round__', '__rpow__', '__rrshift__', '__rshift__', '__rsub__', '__rtruediv__', '__rxor__', '__setattr__', '__sizeof__', '__str__', '__sub__', '__subclasshook__', '__truediv__', '__trunc__', '__xor__', 'as_integer_ratio', 'bit_count', 'bit_length', 'conjugate', 'denominator', 'from_bytes', 'imag', 'numerator', 'real', 'to_bytes']\n"
     ]
    }
   ],
   "source": [
    "# int 타입 예시\n",
    "n = 10 # class\n",
    "print(type(n))\n",
    "print()\n",
    "print(\"메소드들\")\n",
    "print(dir(type(n)))"
   ]
  },
  {
   "cell_type": "code",
   "execution_count": 41,
   "id": "75c179a9",
   "metadata": {},
   "outputs": [
    {
     "name": "stdout",
     "output_type": "stream",
     "text": [
      "110\n",
      "110\n"
     ]
    }
   ],
   "source": [
    "# + = __add__ > 결국 +는 int라는 클래스가 가진 매직메소드로 실행되는 것!\n",
    "# +로 매핑되어 있음\n",
    "print(n+100)\n",
    "print(n.__add__(100))"
   ]
  },
  {
   "cell_type": "code",
   "execution_count": 42,
   "id": "1f704fe1",
   "metadata": {},
   "outputs": [
    {
     "name": "stdout",
     "output_type": "stream",
     "text": [
      "True True\n"
     ]
    }
   ],
   "source": [
    "print(n.__bool__(), bool(n))"
   ]
  },
  {
   "cell_type": "code",
   "execution_count": 44,
   "id": "a23606c5",
   "metadata": {},
   "outputs": [
    {
     "name": "stdout",
     "output_type": "stream",
     "text": [
      "110 1000\n"
     ]
    }
   ],
   "source": [
    "print(n+100, n.__mul__(100))"
   ]
  },
  {
   "cell_type": "code",
   "execution_count": 43,
   "id": "82a330bb",
   "metadata": {},
   "outputs": [
    {
     "name": "stdout",
     "output_type": "stream",
     "text": [
      "int([x]) -> integer\n",
      "int(x, base=10) -> integer\n",
      "\n",
      "Convert a number or string to an integer, or return 0 if no arguments\n",
      "are given.  If x is a number, return x.__int__().  For floating point\n",
      "numbers, this truncates towards zero.\n",
      "\n",
      "If x is not a number or if base is given, then x must be a string,\n",
      "bytes, or bytearray instance representing an integer literal in the\n",
      "given base.  The literal can be preceded by '+' or '-' and be surrounded\n",
      "by whitespace.  The base defaults to 10.  Valid bases are 0 and 2-36.\n",
      "Base 0 means to interpret the base from the string as an integer literal.\n",
      ">>> int('0b100', base=0)\n",
      "4\n"
     ]
    }
   ],
   "source": [
    "# int class에 대한 설명\n",
    "print(n.__doc__)"
   ]
  },
  {
   "cell_type": "markdown",
   "id": "93df841e",
   "metadata": {},
   "source": [
    "**클래스 예제**\n",
    "- 매직 메소드를 재정의하여 새롭게 사용한다."
   ]
  },
  {
   "cell_type": "code",
   "execution_count": 84,
   "id": "332f3df3",
   "metadata": {},
   "outputs": [],
   "source": [
    "class Fruit:\n",
    "    def __init__(self, name, price):\n",
    "        self._name = name\n",
    "        self._price = price\n",
    "        \n",
    "    # 매직메소드 새롭게 정의\n",
    "    def __str__(self):\n",
    "        return 'Fruit Class Info : {}, {}'.format(self._name, self._price)\n",
    "    \n",
    "    def __add__(self, x):\n",
    "        # 호출되는지 확인\n",
    "        print('Called >> __add__')\n",
    "        return self._price + x._price\n",
    "    \n",
    "    def __sub__(self, x):\n",
    "        print('Called >> __sub__')\n",
    "        return self._price - x._price\n",
    "    \n",
    "    def __le__(self, x):\n",
    "        print('Called >> __le__')\n",
    "        if self._price <= x._price:\n",
    "            return True\n",
    "        else:\n",
    "            return False\n",
    "        \n",
    "    def __ge__(self, x):\n",
    "        print('Called >> __ge__')\n",
    "        if self._price >= x._price:\n",
    "            return True\n",
    "        else:\n",
    "            return False"
   ]
  },
  {
   "cell_type": "code",
   "execution_count": 75,
   "id": "e84e3ee7",
   "metadata": {},
   "outputs": [],
   "source": [
    "# 인스턴스 생성\n",
    "s1 = Fruit('Orange', 7500)\n",
    "s2 = Fruit('Banana', 3000)"
   ]
  },
  {
   "cell_type": "code",
   "execution_count": 76,
   "id": "73ef6c11",
   "metadata": {},
   "outputs": [
    {
     "name": "stdout",
     "output_type": "stream",
     "text": [
      "10500\n"
     ]
    }
   ],
   "source": [
    "# __add__가 없을 경우\n",
    "print(s1._price + s2._price)"
   ]
  },
  {
   "cell_type": "code",
   "execution_count": 77,
   "id": "446b596e",
   "metadata": {},
   "outputs": [
    {
     "name": "stdout",
     "output_type": "stream",
     "text": [
      "Called >> __add__\n",
      "10500\n"
     ]
    }
   ],
   "source": [
    "# 매직메소드(__add__)의 구현\n",
    "print(s1+s2)"
   ]
  },
  {
   "cell_type": "code",
   "execution_count": 78,
   "id": "2755ff0b",
   "metadata": {},
   "outputs": [
    {
     "name": "stdout",
     "output_type": "stream",
     "text": [
      "Called >> __sub__\n",
      "4500\n"
     ]
    }
   ],
   "source": [
    "# __sub__\n",
    "print(s1-s2)"
   ]
  },
  {
   "cell_type": "code",
   "execution_count": 80,
   "id": "0a498147",
   "metadata": {},
   "outputs": [
    {
     "name": "stdout",
     "output_type": "stream",
     "text": [
      "Called >> __ge__\n",
      "True\n"
     ]
    }
   ],
   "source": [
    "# __ge__\n",
    "print(s1>=s2)"
   ]
  },
  {
   "cell_type": "code",
   "execution_count": 82,
   "id": "7a57e90c",
   "metadata": {},
   "outputs": [
    {
     "name": "stdout",
     "output_type": "stream",
     "text": [
      "Called >> __le__\n",
      "False\n"
     ]
    }
   ],
   "source": [
    "# __le__\n",
    "print(s1<=s2)"
   ]
  },
  {
   "cell_type": "code",
   "execution_count": 83,
   "id": "76b195b5",
   "metadata": {},
   "outputs": [
    {
     "name": "stdout",
     "output_type": "stream",
     "text": [
      "Fruit Class Info : Orange, 7500\n",
      "Fruit Class Info : Banana, 3000\n"
     ]
    }
   ],
   "source": [
    "# __str__\n",
    "print(s1)\n",
    "print(s2)"
   ]
  }
 ],
 "metadata": {
  "kernelspec": {
   "display_name": "Python 3 (ipykernel)",
   "language": "python",
   "name": "python3"
  },
  "language_info": {
   "codemirror_mode": {
    "name": "ipython",
    "version": 3
   },
   "file_extension": ".py",
   "mimetype": "text/x-python",
   "name": "python",
   "nbconvert_exporter": "python",
   "pygments_lexer": "ipython3",
   "version": "3.11.5"
  }
 },
 "nbformat": 4,
 "nbformat_minor": 5
}
